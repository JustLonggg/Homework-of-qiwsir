{
 "cells": [
  {
   "cell_type": "code",
   "execution_count": 1,
   "metadata": {},
   "outputs": [
    {
     "name": "stdout",
     "output_type": "stream",
     "text": [
      "请输入一个整数：5\n",
      "奇数\n"
     ]
    }
   ],
   "source": [
    "while True:\n",
    "    try:\n",
    "        a = int(input('请输入一个整数：'))\n",
    "        break\n",
    "    except:\n",
    "        print('格式不正确！请重新输入。')\n",
    "        \n",
    "if a%2:\n",
    "    print('奇数')\n",
    "else:\n",
    "    print('偶数')\n",
    "    "
   ]
  },
  {
   "cell_type": "code",
   "execution_count": 17,
   "metadata": {},
   "outputs": [
    {
     "name": "stdout",
     "output_type": "stream",
     "text": [
      "[102 119 136 153 170 187 204 221 238 255 272 289 306 323 340 357 374 391\n",
      " 408 425 442 459 476 493 510 527 544 561 578 595 612 629 646 663 680 697\n",
      " 714 731 748 765 782 799 816 833 850 867 884 901 918 935 952 969 986]\n"
     ]
    }
   ],
   "source": [
    "import numpy as np\n",
    "def fun1():\n",
    "    a = [i for i in range(100,1000) if not i%17]\n",
    "    a = np.array(a)\n",
    "    print(a)\n",
    "    return\n",
    "fun1()"
   ]
  },
  {
   "cell_type": "code",
   "execution_count": 18,
   "metadata": {},
   "outputs": [
    {
     "name": "stdout",
     "output_type": "stream",
     "text": [
      "请输入二次项的值：1\n",
      "请输入一次项的值：5\n",
      "请输入常数项的值：-6\n",
      "方程的两个解为1.00和-6.00\n"
     ]
    }
   ],
   "source": [
    "import math\n",
    "def fun2():\n",
    "    while True:\n",
    "        try:\n",
    "            a = int(input('请输入二次项的值：'))\n",
    "            b = int(input('请输入一次项的值：'))\n",
    "            c = int(input('请输入常数项的值：'))\n",
    "            break\n",
    "        except:\n",
    "            print('输入错误，请重新输入！')\n",
    "    d = b**2 - 4*a*c\n",
    "    if d<0:\n",
    "        print('方程无解')\n",
    "    elif d==0:\n",
    "        e = -b/(2*a)\n",
    "        print('方程有唯一解：',e)\n",
    "    else:\n",
    "        f = (-b+math.sqrt(d))/(2*a)\n",
    "        g = (-b-math.sqrt(d))/(2*a)\n",
    "        print('方程的两个解为%.2f和%.2f' % (f,g))\n",
    "        \n",
    "    return\n",
    "\n",
    "fun2()"
   ]
  },
  {
   "cell_type": "code",
   "execution_count": 22,
   "metadata": {},
   "outputs": [
    {
     "name": "stdout",
     "output_type": "stream",
     "text": [
      "{('python', 'djang', 'data'): 'book', 'laoqi': 'author', 'phei': 'publisher'}\n"
     ]
    }
   ],
   "source": [
    "book_dict = {'book':['python','djang','data'],'author':'laoqi','publisher':'phei'}\n",
    "new_dict = {}\n",
    "for each in book_dict.items():\n",
    "    if type(each[1])==type([1]):\n",
    "        new_dict[tuple(each[1])] = each[0]\n",
    "    else:\n",
    "        new_dict[each[1]] = each[0]\n",
    "print(new_dict)"
   ]
  },
  {
   "cell_type": "code",
   "execution_count": 34,
   "metadata": {},
   "outputs": [
    {
     "name": "stdout",
     "output_type": "stream",
     "text": [
      "['1', '0', '1', '0']\n"
     ]
    }
   ],
   "source": [
    "def trans(n):\n",
    "    a = []\n",
    "    while n:\n",
    "        if n%2==0:\n",
    "            a.append('0')\n",
    "        else:\n",
    "            a.append('1')\n",
    "        n=n//2\n",
    "    a.reverse()\n",
    "    print(a)\n",
    "    return\n",
    "trans(10)"
   ]
  },
  {
   "cell_type": "code",
   "execution_count": 38,
   "metadata": {},
   "outputs": [
    {
     "name": "stdout",
     "output_type": "stream",
     "text": [
      "110.0\n",
      "河北 --> 120.9\n",
      "辽宁 --> 130.4\n"
     ]
    }
   ],
   "source": [
    "price_index = {'北京':102.9,'天津':102.2,'河北':120.9,'山西':101.8,'内蒙古':101.8,'辽宁':130.4}\n",
    "count = 0\n",
    "for each in price_index:\n",
    "    count += price_index[each]\n",
    "    \n",
    "ave = count/len(price_index)\n",
    "print(ave)\n",
    "for each in price_index:\n",
    "    if price_index[each]>ave:\n",
    "        print(each,'-->',price_index[each])\n",
    "        \n"
   ]
  },
  {
   "cell_type": "code",
   "execution_count": 3,
   "metadata": {},
   "outputs": [
    {
     "name": "stdout",
     "output_type": "stream",
     "text": [
      "是回文数\n"
     ]
    }
   ],
   "source": [
    "def judge(n):\n",
    "    a = str(n)\n",
    "    for i in range(5):\n",
    "        if a[i]!=a[4-i]:\n",
    "            print('不是回文数')\n",
    "            break\n",
    "        if a[i]==a[4-i] and i==4:\n",
    "            print('是回文数')\n",
    "    return\n",
    "judge(12321)\n",
    "        "
   ]
  },
  {
   "cell_type": "code",
   "execution_count": 5,
   "metadata": {},
   "outputs": [
    {
     "name": "stdout",
     "output_type": "stream",
     "text": [
      "[-7, -2, -1]\n"
     ]
    }
   ],
   "source": [
    "a = [2,4,-7,19,-2,-1,45]\n",
    "b = [i for i in a if i<0]\n",
    "print(b)"
   ]
  },
  {
   "cell_type": "code",
   "execution_count": 7,
   "metadata": {},
   "outputs": [
    {
     "name": "stdout",
     "output_type": "stream",
     "text": [
      "['python', 'math', 'chinese']\n"
     ]
    }
   ],
   "source": [
    "dict1 = {'python':89,'java':58,'physics':65,'math':87,'chinese':74,'english':60}\n",
    "a = [each for each in dict1 if dict1[each]>(89+58+65+87+74+60)/6]\n",
    "print(a)"
   ]
  },
  {
   "cell_type": "code",
   "execution_count": 8,
   "metadata": {},
   "outputs": [
    {
     "name": "stdout",
     "output_type": "stream",
     "text": [
      "338350\n"
     ]
    }
   ],
   "source": [
    "a = [i**2 for i in range(1,101)]\n",
    "b = sum(a)\n",
    "print(b)"
   ]
  },
  {
   "cell_type": "code",
   "execution_count": 12,
   "metadata": {},
   "outputs": [
    {
     "name": "stdout",
     "output_type": "stream",
     "text": [
      "2是素数\n",
      "3是素数\n",
      "5是素数\n",
      "7是素数\n",
      "11是素数\n",
      "13是素数\n",
      "17是素数\n",
      "19是素数\n",
      "23是素数\n",
      "29是素数\n",
      "31是素数\n",
      "37是素数\n",
      "41是素数\n",
      "43是素数\n",
      "47是素数\n",
      "53是素数\n",
      "59是素数\n",
      "61是素数\n",
      "67是素数\n",
      "71是素数\n",
      "73是素数\n",
      "79是素数\n",
      "83是素数\n",
      "89是素数\n",
      "97是素数\n"
     ]
    }
   ],
   "source": [
    "def judge(n):\n",
    "    count=0\n",
    "    for i in range(2,n):\n",
    "        if n%i==0:\n",
    "            count+=1\n",
    "    if count==0:\n",
    "        print('%d是素数'% n)\n",
    "    \n",
    "    return\n",
    "for i in range(2,100):\n",
    "    judge(i)\n"
   ]
  },
  {
   "cell_type": "code",
   "execution_count": 13,
   "metadata": {},
   "outputs": [
    {
     "data": {
      "text/plain": [
       "[45, 90]"
      ]
     },
     "execution_count": 13,
     "metadata": {},
     "output_type": "execute_result"
    }
   ],
   "source": [
    "def search(a,b):\n",
    "    result = []\n",
    "    for i in range(b,100):\n",
    "        if i%a==0 and i%b==0:\n",
    "            result.append(i)\n",
    "    return result\n",
    "search(5,9)\n",
    "            "
   ]
  },
  {
   "cell_type": "code",
   "execution_count": 19,
   "metadata": {},
   "outputs": [
    {
     "name": "stdout",
     "output_type": "stream",
     "text": [
      "请输入姓名：(输入q结束)张三\n",
      "请输入分数：89\n",
      "请输入姓名：(输入q结束)李四\n",
      "请输入分数：98\n",
      "请输入姓名：(输入q结束)王五\n",
      "请输入分数：79\n",
      "请输入姓名：(输入q结束)q\n",
      "[('李四', 98), ('张三', 89), ('王五', 79)]\n",
      "[89, 98, 79]\n",
      "平均数为： 88.66666666666667\n",
      "标准差为： 9.50438495292217\n"
     ]
    }
   ],
   "source": [
    "import math\n",
    "def ave(a):\n",
    "    count = 0\n",
    "    for i in range(len(a)):\n",
    "        count += a[i]\n",
    "    return count/len(a)\n",
    "\n",
    "def sigma(b):\n",
    "    count = 0\n",
    "    for i in range(len(b)):\n",
    "        count += (b[i]-ave(b))**2\n",
    "    \n",
    "    return math.sqrt(count/(len(b)-1))\n",
    "\n",
    "dict1 = {}\n",
    "while True:\n",
    "    try:\n",
    "        a = input('请输入姓名：(输入q结束)')\n",
    "        if a == 'q':\n",
    "            break\n",
    "        else:\n",
    "            dict1[a] = int(input('请输入分数：'))\n",
    "    except:\n",
    "        print('输入有误，请重新输入！')\n",
    "        \n",
    "a = sorted(dict1.items(),key = lambda x:x[1],reverse=True)\n",
    "print(a)\n",
    "b = []\n",
    "for each in dict1:\n",
    "    b.append(dict1[each])\n",
    "print(b)\n",
    "\n",
    "print('平均数为：',ave(b))\n",
    "print('标准差为：',sigma(b))\n",
    "    "
   ]
  },
  {
   "cell_type": "code",
   "execution_count": 20,
   "metadata": {},
   "outputs": [
    {
     "data": {
      "text/plain": [
       "120"
      ]
     },
     "execution_count": 20,
     "metadata": {},
     "output_type": "execute_result"
    }
   ],
   "source": [
    "def factorial(n):\n",
    "    if n == 1:\n",
    "        return 1\n",
    "    else:\n",
    "        return n*factorial(n-1)\n",
    "factorial(5)"
   ]
  },
  {
   "cell_type": "code",
   "execution_count": 23,
   "metadata": {},
   "outputs": [
    {
     "data": {
      "text/plain": [
       "25.0"
      ]
     },
     "execution_count": 23,
     "metadata": {},
     "output_type": "execute_result"
    }
   ],
   "source": [
    "def sum_seq(n):\n",
    "    return (n[0]+n[-1])*len(n)/2\n",
    "a=range(1,10,2)\n",
    "sum_seq(a)"
   ]
  },
  {
   "cell_type": "code",
   "execution_count": 26,
   "metadata": {},
   "outputs": [
    {
     "name": "stdout",
     "output_type": "stream",
     "text": [
      "None\n"
     ]
    }
   ],
   "source": [
    "def get_list(a,n):\n",
    "    b = len(a)\n",
    "    if n<b:\n",
    "        return a[n]\n",
    "    else:\n",
    "        print('None')\n",
    "        return\n",
    "a = [1,2,3]\n",
    "get_list(a,3)\n",
    "    "
   ]
  },
  {
   "cell_type": "code",
   "execution_count": null,
   "metadata": {},
   "outputs": [],
   "source": []
  },
  {
   "cell_type": "code",
   "execution_count": null,
   "metadata": {},
   "outputs": [],
   "source": []
  },
  {
   "cell_type": "code",
   "execution_count": null,
   "metadata": {},
   "outputs": [],
   "source": []
  },
  {
   "cell_type": "code",
   "execution_count": null,
   "metadata": {},
   "outputs": [],
   "source": []
  },
  {
   "cell_type": "code",
   "execution_count": null,
   "metadata": {},
   "outputs": [],
   "source": []
  },
  {
   "cell_type": "code",
   "execution_count": null,
   "metadata": {},
   "outputs": [],
   "source": []
  },
  {
   "cell_type": "code",
   "execution_count": null,
   "metadata": {},
   "outputs": [],
   "source": []
  }
 ],
 "metadata": {
  "kernelspec": {
   "display_name": "Python 3",
   "language": "python",
   "name": "python3"
  },
  "language_info": {
   "codemirror_mode": {
    "name": "ipython",
    "version": 3
   },
   "file_extension": ".py",
   "mimetype": "text/x-python",
   "name": "python",
   "nbconvert_exporter": "python",
   "pygments_lexer": "ipython3",
   "version": "3.6.5"
  }
 },
 "nbformat": 4,
 "nbformat_minor": 2
}
